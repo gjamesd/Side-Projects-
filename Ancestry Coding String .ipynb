{
 "cells": [
  {
   "cell_type": "markdown",
   "metadata": {},
   "source": [
    "10. Create an application that will prompt for a user to input a string.  Using the user’s inputted string, find the first letter that is not repeated. \n",
    "For example: If given the String ‘Bubble’, the letter ‘u’ would be the first character returned from the program.\n",
    " Once the first character is found and displayed back to the user, rewrite the string in order of number of occurrences and order from the inputted string. In the above example ‘Bubble’ would then be rewritten as ‘uleBbb’. Display this to the user.\n",
    "\n"
   ]
  },
  {
   "cell_type": "code",
   "execution_count": 71,
   "metadata": {},
   "outputs": [
    {
     "name": "stdout",
     "output_type": "stream",
     "text": [
      "b\n",
      "['u', 'l', 'e', 'B', 'b', 'b']\n"
     ]
    }
   ],
   "source": [
    "def doup_check(s):\n",
    "    s = str(s)\n",
    "    #iterating over the length of my string \n",
    "    for i in range(len(s)):\n",
    "        if s[i].lower() in s[:i].lower(): #if i in my string, upper or lower case \n",
    "            #return the duplicate letter \n",
    "            return(s[i])\n",
    "    #else return the string \n",
    "    return(s)\n",
    "        \n",
    "\n",
    "def split_string(s):\n",
    "    #create an empty vector to fill with the letters \n",
    "    empty = []\n",
    "    #call function \n",
    "    split = doup_check(s)\n",
    "    \n",
    "    for j in s:\n",
    "        #if letter is not repeated append keep value \n",
    "        if j.lower() != split:\n",
    "            empty.append(j)\n",
    "            \n",
    "    for k in s:\n",
    "        #if letter is repeated, append it to the vector with the non repeated already in place\n",
    "        if k.lower() == split:\n",
    "            empty.append(k)\n",
    "            \n",
    "            \n",
    "            \n",
    "    return(empty)\n",
    "        \n",
    "if __name__ == \"__main__\":\n",
    "    print(doup_check(\"Bubble\"))\n",
    "    #print(doup_check(\"Ancestry\"))\n",
    "    print(split_string(\"Bubble\"))\n",
    "   \n",
    "    "
   ]
  }
 ],
 "metadata": {
  "kernelspec": {
   "display_name": "Python 3",
   "language": "python",
   "name": "python3"
  },
  "language_info": {
   "codemirror_mode": {
    "name": "ipython",
    "version": 3
   },
   "file_extension": ".py",
   "mimetype": "text/x-python",
   "name": "python",
   "nbconvert_exporter": "python",
   "pygments_lexer": "ipython3",
   "version": "3.7.1"
  }
 },
 "nbformat": 4,
 "nbformat_minor": 2
}
